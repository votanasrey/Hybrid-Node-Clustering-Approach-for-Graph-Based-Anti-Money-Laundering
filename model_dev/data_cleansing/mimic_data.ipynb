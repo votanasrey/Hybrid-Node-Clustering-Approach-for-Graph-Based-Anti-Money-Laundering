{
 "cells": [
  {
   "cell_type": "code",
   "execution_count": null,
   "metadata": {},
   "outputs": [],
   "source": [
    "######################################################\n",
    "# Additional Lib\n",
    "######################################################\n",
    "import datetime\n",
    "import os\n",
    "from typing import Callable, Optional\n",
    "import pandas as pd\n",
    "import json\n",
    "import warnings\n",
    "warnings.filterwarnings(\"ignore\")\n",
    "######################################################\n",
    "# Data Visualizations\n",
    "######################################################\n",
    "import matplotlib.pyplot as plt #type: ignore\n",
    "import matplotlib as matplot #type: ignore\n",
    "import seaborn as sns #type: ignore"
   ]
  },
  {
   "cell_type": "code",
   "execution_count": null,
   "metadata": {},
   "outputs": [],
   "source": [
    "pd.set_option('display.max_columns', None)\n",
    "path = './data/dataset.csv'\n",
    "df = pd.read_csv(path)\n",
    "df.head(10)\n",
    "# df = df.head(500000)\n",
    "\n",
    "print(\"\\n\\n\\n\")\n",
    "print(\"DATASET LENGTH\")\n",
    "print(\"ROWS: \", df.shape[0])\n",
    "print(\"COLUMNS: \", df.shape[1])"
   ]
  }
 ],
 "metadata": {
  "kernelspec": {
   "display_name": "votana_venv",
   "language": "python",
   "name": "python3"
  },
  "language_info": {
   "name": "python",
   "version": "3.10.12"
  }
 },
 "nbformat": 4,
 "nbformat_minor": 2
}
